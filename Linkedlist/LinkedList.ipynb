{
 "cells": [
  {
   "cell_type": "code",
   "execution_count": 1,
   "id": "f40be4e8-8454-439f-bf69-d47652a735d1",
   "metadata": {},
   "outputs": [],
   "source": [
    "class Node:\n",
    "    __slots__ = ('value', 'next')\n",
    "    def __init__(self, value, next=None):\n",
    "        self.value = value\n",
    "        self.next = next"
   ]
  },
  {
   "cell_type": "code",
   "execution_count": 27,
   "id": "8db2ba51-bf90-4d5f-b973-0f0f93bf56e4",
   "metadata": {},
   "outputs": [],
   "source": [
    "class LinkedList:\n",
    "    def __init__(self):\n",
    "        self._head = None\n",
    "        self._tail = None\n",
    "        self._len = 0\n",
    "        \n",
    "    def insert(self, value):\n",
    "        node = Node(value)\n",
    "        if not self._tail:\n",
    "            self._head = self._tail = node\n",
    "        else:\n",
    "            self._tail.next = node\n",
    "            self._tail = node\n",
    "            \n",
    "        self._len += 1\n",
    "            \n",
    "    def remove(self, value):\n",
    "        prev, node, found = self._find_value(self._head, None, value)\n",
    "        if not found:\n",
    "            raise ValueError()\n",
    "            \n",
    "        if prev:\n",
    "            prev.next = node.next\n",
    "            \n",
    "        else:\n",
    "            self._head = node.next\n",
    "            \n",
    "    def __iter__(self):\n",
    "        yield from self._iter(self._head)\n",
    "\n",
    "    def _iter(self, node):\n",
    "        if node:\n",
    "            yield node.value\n",
    "            yield from self._iter(node.next)\n",
    "                \n",
    "    def __len__(self):\n",
    "        return self._len\n",
    "  \n",
    "                          \n",
    "    def _contains(self, value):\n",
    "        prev, curr, found = self._find_values(value)\n",
    "        return found\n",
    "        \n",
    "        \n",
    "    def _find_value(self, curr, prev, value):\n",
    "        while curr:\n",
    "            if curr.value == value:\n",
    "                return prev, curr, True\n",
    "            prev = curr\n",
    "            curr = curr.next\n",
    "            \n",
    "        return prev, curr, False\n",
    "            \n",
    "            "
   ]
  },
  {
   "cell_type": "code",
   "execution_count": 28,
   "id": "536a5def-97f7-44cf-ab19-9c05b04aed91",
   "metadata": {},
   "outputs": [],
   "source": [
    "lnlist = LinkedList()"
   ]
  },
  {
   "cell_type": "code",
   "execution_count": 29,
   "id": "2ec5e88b-94aa-400f-a837-9c17e24b5cd5",
   "metadata": {},
   "outputs": [],
   "source": [
    "lnlist.insert(1)\n",
    "lnlist.insert(10)\n",
    "lnlist.insert(40)"
   ]
  },
  {
   "cell_type": "code",
   "execution_count": 30,
   "id": "608b6d53-93eb-46d5-a5c7-8e8a560826a8",
   "metadata": {},
   "outputs": [
    {
     "name": "stdout",
     "output_type": "stream",
     "text": [
      "[1, 10, 40]\n"
     ]
    }
   ],
   "source": [
    "print(list(lnlist))"
   ]
  },
  {
   "cell_type": "code",
   "execution_count": null,
   "id": "076677c4-ec8d-45f8-945c-3a7a08b3cf84",
   "metadata": {},
   "outputs": [],
   "source": [
    "lnlist"
   ]
  }
 ],
 "metadata": {
  "kernelspec": {
   "display_name": "pytorch",
   "language": "python",
   "name": "pytorch"
  },
  "language_info": {
   "codemirror_mode": {
    "name": "ipython",
    "version": 3
   },
   "file_extension": ".py",
   "mimetype": "text/x-python",
   "name": "python",
   "nbconvert_exporter": "python",
   "pygments_lexer": "ipython3",
   "version": "3.8.0"
  }
 },
 "nbformat": 4,
 "nbformat_minor": 5
}
