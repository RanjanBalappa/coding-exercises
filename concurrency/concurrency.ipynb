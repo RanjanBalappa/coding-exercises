{
 "cells": [
  {
   "cell_type": "code",
   "execution_count": 38,
   "id": "94f200d9-c73a-4fca-8cd9-812501f31f9b",
   "metadata": {},
   "outputs": [],
   "source": [
    "import warnings\n",
    "warnings.filterwarnings('ignore')"
   ]
  },
  {
   "cell_type": "code",
   "execution_count": 39,
   "id": "65d6ec33-52f4-4b8d-a19b-58047cbdecdd",
   "metadata": {},
   "outputs": [],
   "source": [
    "from pathlib import Path\n",
    "from skimage import io\n",
    "import numpy as np\n",
    "import os"
   ]
  },
  {
   "cell_type": "code",
   "execution_count": 51,
   "id": "a48c9480-e48f-40ea-b15b-1d32a4bb7621",
   "metadata": {},
   "outputs": [],
   "source": [
    "os.makedirs('data/tiles', exist_ok=True)\n",
    "def create_tiles(path):\n",
    "    image = io.imread(path)\n",
    "    name = str(path).split('/')[-1].split('.')[0]\n",
    "    pad_w, pad_h = 128 - (image.shape[0] % 128), 128 - (image.shape[1] % 128)\n",
    "    image = np.pad(image, ((0, pad_w), (0, pad_h), (0, 0)))\n",
    "    for w in range(0, image.shape[0], 128):\n",
    "        for h in range(0, image.shape[1], 128):\n",
    "            crop = image[w:w+128, h:h+128, :]\n",
    "            io.imsave(f'data/tiles/{name}_w{w}_h{h}.png', crop)\n",
    "            "
   ]
  },
  {
   "cell_type": "code",
   "execution_count": 52,
   "id": "259ab1ca-3840-48be-a07e-63b5e8381b99",
   "metadata": {},
   "outputs": [
    {
     "name": "stdout",
     "output_type": "stream",
     "text": [
      "9\n"
     ]
    }
   ],
   "source": [
    "!ls data/raw -1 | wc -l"
   ]
  },
  {
   "cell_type": "code",
   "execution_count": 62,
   "id": "0b435b5a-4345-4850-9a83-2e4a8edb103b",
   "metadata": {},
   "outputs": [
    {
     "name": "stdout",
     "output_type": "stream",
     "text": [
      "5.94 s ± 0 ns per loop (mean ± std. dev. of 1 run, 1 loop each)\n"
     ]
    }
   ],
   "source": [
    "%%timeit -r 1 -n 1\n",
    "for path in Path('data/raw').glob('*'):\n",
    "    create_tiles(path)\n",
    "    "
   ]
  },
  {
   "cell_type": "code",
   "execution_count": 61,
   "id": "539734d9-a1ad-4419-857a-ff5bec56b633",
   "metadata": {},
   "outputs": [],
   "source": [
    "!rm data/tiles/*.png"
   ]
  },
  {
   "cell_type": "code",
   "execution_count": 60,
   "id": "68fc01e1-a016-4242-8109-f5debed43b19",
   "metadata": {},
   "outputs": [
    {
     "name": "stdout",
     "output_type": "stream",
     "text": [
      "1.53 s ± 0 ns per loop (mean ± std. dev. of 1 run, 1 loop each)\n"
     ]
    }
   ],
   "source": [
    "%%timeit -r 1 -n 1\n",
    "from concurrent.futures import ProcessPoolExecutor\n",
    "with ProcessPoolExecutor() as executor:\n",
    "    executor.map(create_tiles, Path('data/raw').glob('*'))\n",
    "    "
   ]
  },
  {
   "cell_type": "code",
   "execution_count": null,
   "id": "f60a43c7-fd40-4454-84ba-95df8bb84d7a",
   "metadata": {},
   "outputs": [],
   "source": []
  }
 ],
 "metadata": {
  "kernelspec": {
   "display_name": "Python 3",
   "language": "python",
   "name": "python3"
  },
  "language_info": {
   "codemirror_mode": {
    "name": "ipython",
    "version": 3
   },
   "file_extension": ".py",
   "mimetype": "text/x-python",
   "name": "python",
   "nbconvert_exporter": "python",
   "pygments_lexer": "ipython3",
   "version": "3.8.8"
  }
 },
 "nbformat": 4,
 "nbformat_minor": 5
}
